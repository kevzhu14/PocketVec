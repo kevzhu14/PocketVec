{
 "cells": [
  {
   "cell_type": "code",
   "execution_count": 1,
   "id": "be4597ce-a9ea-4d81-834d-0489f1a3fe87",
   "metadata": {},
   "outputs": [
    {
     "name": "stdout",
     "output_type": "stream",
     "text": [
      "/aloy/home/acomajuncosa/PocketVec_v2/GitLab_repo\n"
     ]
    }
   ],
   "source": [
    "# Run this cell only once\n",
    "import sys\n",
    "import os\n",
    "os.chdir(\"../..\")\n",
    "print(os.getcwd())\n",
    "sys.path.insert(1, './code')"
   ]
  },
  {
   "cell_type": "code",
   "execution_count": 4,
   "id": "bc115e16-b9da-45f0-8a3b-c3eb0fe28e80",
   "metadata": {},
   "outputs": [],
   "source": [
    "from utils.pocketvec_utils import prepare_pdb\n",
    "from utils.pocketvec_utils import select_first_model\n",
    "from utils.pocketvec_utils import select_chain\n",
    "from utils.pocketvec_utils import remove_ligands\n",
    "from utils.pocketvec_utils import remove_hydrogens\n",
    "from utils.pocketvec_utils import select_occupancies\n",
    "from utils.pocketvec_utils import extract_ligand_coords\n",
    "from utils.pocketvec_utils import calculate_centroid\n",
    "from utils.pocketvec_utils import create_pocket_centroid\n",
    "from utils.pocketvec_utils import create_fpocket_ds\n",
    "from utils.pocketvec_utils import read_fpocket_centers\n",
    "from utils.pocketvec_utils import read_fpocket_scores\n",
    "from utils.pocketvec_utils import read_prank_scores\n",
    "import urllib.request\n",
    "from Bio.PDB import *\n",
    "import pandas as pd\n",
    "import numpy as np\n",
    "import pickle\n",
    "import shutil\n",
    "import pybel\n",
    "import sys\n",
    "import os"
   ]
  },
  {
   "cell_type": "markdown",
   "id": "9540e55b-2510-4ae7-9c9d-79843836aedf",
   "metadata": {
    "tags": []
   },
   "source": [
    "## This notebook exemplifies how to **download**, **process** and **prepare** protein structures and pockets before feeding them into the PocketVec pipeline to generate binding site descriptors. The notebook is divided in 3 sections:"
   ]
  },
  {
   "cell_type": "code",
   "execution_count": 5,
   "id": "18754c87-d9d1-419e-a4ce-f27cd86fb703",
   "metadata": {
    "tags": []
   },
   "outputs": [],
   "source": [
    "outpath = \"examples/1_preparation/\"\n",
    "\n",
    "# PDB CODE\n",
    "pdb_code = '1A42'"
   ]
  },
  {
   "cell_type": "markdown",
   "id": "7fdc35e3-e0d7-4825-bb17-4f345577403f",
   "metadata": {
    "jp-MarkdownHeadingCollapsed": true,
    "tags": []
   },
   "source": [
    "### 1. Protein structure"
   ]
  },
  {
   "cell_type": "markdown",
   "id": "028a1388-a5dc-425e-8ef6-102050bd97f4",
   "metadata": {
    "tags": []
   },
   "source": [
    "##### DOWNLOAD #####"
   ]
  },
  {
   "cell_type": "code",
   "execution_count": 4,
   "id": "02391187-138d-437a-88e1-644395afaa57",
   "metadata": {},
   "outputs": [],
   "source": [
    "# Download pdb file\n",
    "download = urllib.request.urlretrieve('http://files.rcsb.org/download/' + pdb_code + '.pdb', os.path.join(outpath, pdb_code + \".pdb\"))"
   ]
  },
  {
   "cell_type": "markdown",
   "id": "3ae4b4df-dca3-4339-ab1f-84523b303b46",
   "metadata": {
    "tags": []
   },
   "source": [
    "##### PROCESS #####"
   ]
  },
  {
   "cell_type": "code",
   "execution_count": 5,
   "id": "d8e074e5-ed66-4d1c-af0e-ed17a058964f",
   "metadata": {
    "tags": []
   },
   "outputs": [],
   "source": [
    "# 1. Select the first model\n",
    "path_in = os.path.join(outpath, pdb_code + \".pdb\")\n",
    "path_out = os.path.join(outpath, pdb_code + \"_model.pdb\")\n",
    "select_first_model(path_in, path_out)"
   ]
  },
  {
   "cell_type": "code",
   "execution_count": 6,
   "id": "49746c7c-7be5-409b-96cb-8f31052532ca",
   "metadata": {
    "tags": []
   },
   "outputs": [],
   "source": [
    "# 2. Select the specified chain\n",
    "chain = 'A'\n",
    "path_in = path_out\n",
    "path_out = os.path.join(outpath, pdb_code + \"_\" + chain + \".pdb\")\n",
    "select_chain(path_in, path_out, chain)"
   ]
  },
  {
   "cell_type": "code",
   "execution_count": 7,
   "id": "0d0bddcd-efc3-4c94-a379-618aeaa8e647",
   "metadata": {
    "tags": []
   },
   "outputs": [],
   "source": [
    "# 3. Remove ligands and waters\n",
    "path_in = path_out\n",
    "path_out = os.path.join(outpath, pdb_code + \"_ligands.pdb\")\n",
    "ligands = ['HOH', 'BZU', 'HG', 'ZN']\n",
    "remove_ligands(path_in, path_out, ligands)"
   ]
  },
  {
   "cell_type": "code",
   "execution_count": 8,
   "id": "15e5b91e-b007-4588-b483-e7652e97ccfe",
   "metadata": {
    "tags": []
   },
   "outputs": [],
   "source": [
    "# For further processing, we recommend to use the structure_chaking utility from BioBB. You can\n",
    "# download it from https://github.com/bioexcel/biobb_structure_checking. Change the following\n",
    "# variable according to your local path \n",
    "path_to_check_structure = '/aloy/home/acomajuncosa/programs/structureChecking/bin/check_structure'\n",
    "\n",
    "# 4. Remove hydrogens\n",
    "path_in = path_out\n",
    "path_out = os.path.join(outpath, pdb_code + \"_hydrogens.pdb\")\n",
    "logs1 = remove_hydrogens(path_to_check_structure, path_in, path_out)\n",
    "\n",
    "# 5. Select occupancies\n",
    "path_in = path_out\n",
    "path_out = os.path.join(outpath, pdb_code + \"_alt.pdb\")\n",
    "logs2 = select_occupancies(path_to_check_structure, path_in, path_out)"
   ]
  },
  {
   "cell_type": "markdown",
   "id": "300feed3-530b-45fa-8cad-4010b4040a92",
   "metadata": {},
   "source": [
    "##### PREPARE (Should take no more than ~1min for normal sized pdbs)"
   ]
  },
  {
   "cell_type": "code",
   "execution_count": 9,
   "id": "6bf50764-6ffa-4a57-8fac-094a89d890bc",
   "metadata": {},
   "outputs": [
    {
     "name": "stderr",
     "output_type": "stream",
     "text": [
      "Preparation completed!"
     ]
    }
   ],
   "source": [
    "infile = os.path.join(outpath, pdb_code + \"_alt.pdb\")\n",
    "outfile = os.path.join(outpath, pdb_code + \"_prepared.mol2\")\n",
    "logfile = os.path.join(outpath, \"prep_logs.log\")\n",
    "\n",
    "prepare_pdb(infile, outfile, logfile)"
   ]
  },
  {
   "cell_type": "markdown",
   "id": "5095ded4-9469-4868-ae9e-450cd2f06f67",
   "metadata": {
    "jp-MarkdownHeadingCollapsed": true,
    "tags": []
   },
   "source": [
    "### 2. Pocket centroid (ligand-based)"
   ]
  },
  {
   "cell_type": "code",
   "execution_count": 10,
   "id": "58c1f33a-d94a-46b0-a369-2f1e0aab27d5",
   "metadata": {
    "tags": []
   },
   "outputs": [],
   "source": [
    "# 1. Extract ligand coordinates\n",
    "path_to_st = \"examples/1_preparation/\" + pdb_code + \".pdb\"\n",
    "ligand = 'BZU'\n",
    "chain = 'A'\n",
    "coords = extract_ligand_coords(path_to_st, ligand, chain)"
   ]
  },
  {
   "cell_type": "code",
   "execution_count": 11,
   "id": "4f731ecb-4006-4f40-af9d-72fd4d3f040a",
   "metadata": {
    "tags": []
   },
   "outputs": [],
   "source": [
    "# 2. Calculate pocket centroid\n",
    "centroid = calculate_centroid(coords)"
   ]
  },
  {
   "cell_type": "code",
   "execution_count": 12,
   "id": "1f17ccbf-ad0e-449f-b7b5-b13266dc5b45",
   "metadata": {
    "tags": []
   },
   "outputs": [
    {
     "name": "stderr",
     "output_type": "stream",
     "text": [
      "1 molecule converted\n"
     ]
    }
   ],
   "source": [
    "# 3. Create pocket centroid\n",
    "path_out = os.path.join(outpath, \"CTR_LIG.sd\")\n",
    "create_pocket_centroid(centroid, path_out)"
   ]
  },
  {
   "cell_type": "markdown",
   "id": "caf15913-fb16-463a-a359-15ae53f6970c",
   "metadata": {},
   "source": [
    "### 3. Prepare pocket centroid (pocket-detection)"
   ]
  },
  {
   "cell_type": "code",
   "execution_count": 4,
   "id": "6ab381a7-4588-4f1b-9029-c330e31fcc69",
   "metadata": {
    "tags": []
   },
   "outputs": [],
   "source": [
    "outpath = \"examples/1_preparation/\"\n",
    "\n",
    "# To predict pocket locations, we recommend the combined use of fpocket detection and\n",
    "# prank scoring. You can download the software from https://github.com/Discngine/fpocket\n",
    "# and https://github.com/rdk/p2rank. Change the following variables according to your local paths\n",
    "\n",
    "path_to_fpocket = \"/aloy/home/acomajuncosa/programs/fpocket/bin/fpocket\"\n",
    "path_to_prank = \"/aloy/home/acomajuncosa/programs/p2rank-2.4/distro/prank\""
   ]
  },
  {
   "cell_type": "code",
   "execution_count": 12,
   "id": "ad799195-59be-4fa3-b378-6124933f6d0e",
   "metadata": {
    "tags": []
   },
   "outputs": [
    {
     "name": "stderr",
     "output_type": "stream",
     "text": [
      "==============================\n",
      "*** Open Babel Warning  in ReadMolecule\n",
      "  Failed to kekulize aromatic bonds in MOL2 file (title is 1A42_alt.A)\n",
      "\n",
      "1 molecule converted\n"
     ]
    },
    {
     "data": {
      "text/plain": [
       "0"
      ]
     },
     "execution_count": 12,
     "metadata": {},
     "output_type": "execute_result"
    }
   ],
   "source": [
    "# 1. Change format from mol2 to pdb\n",
    "path_to_mol2 = os.path.join(outpath, pdb_code + \"_prepared.mol2\")\n",
    "path_to_pdb = os.path.join(outpath, pdb_code + \"_prepared.pdb\")\n",
    "\n",
    "command = \" \".join(['obabel', path_to_mol2, '-O', path_to_pdb])\n",
    "os.system(command)"
   ]
  },
  {
   "cell_type": "code",
   "execution_count": 13,
   "id": "fdc73939-d9c8-4689-ab64-4b3f837264d1",
   "metadata": {
    "tags": []
   },
   "outputs": [
    {
     "name": "stdout",
     "output_type": "stream",
     "text": [
      "***** POCKET HUNTING BEGINS ***** \n"
     ]
    },
    {
     "name": "stderr",
     "output_type": "stream",
     "text": [
      "mkdir: cannot create directory ‘1A42_prepared_out/pockets’: File exists\n"
     ]
    },
    {
     "name": "stdout",
     "output_type": "stream",
     "text": [
      "***** POCKET HUNTING ENDS ***** \n"
     ]
    }
   ],
   "source": [
    "# 2. Change working directory and run fpocket\n",
    "os.chdir(outpath)\n",
    "command = \" \".join([path_to_fpocket, '-f', pdb_code + \"_prepared.pdb\"])\n",
    "out = os.system(command)\n",
    "os.chdir(\"../..\")"
   ]
  },
  {
   "cell_type": "code",
   "execution_count": 14,
   "id": "935305e9-bf4a-4a35-91a3-495425302922",
   "metadata": {
    "tags": []
   },
   "outputs": [
    {
     "name": "stdout",
     "output_type": "stream",
     "text": [
      "----------------------------------------------------------------------------------------------\n",
      " P2Rank 2.4-beta.2\n",
      "----------------------------------------------------------------------------------------------\n",
      "\n",
      "rescoring pockets on proteins from dataset [fpocket3.ds]\n",
      "processing [1A42_prepared_out.pdb] (1/1)\n",
      "rescoring finished in 0 hours 0 minutes 4.210 seconds\n",
      "results saved to directory [/aloy/home/acomajuncosa/PocketVec_v2/GitLab_repo/examples/1_preparation/prank]\n",
      "\n",
      "----------------------------------------------------------------------------------------------\n",
      " finished successfully in 0 hours 0 minutes 5.125 seconds\n",
      "----------------------------------------------------------------------------------------------\n"
     ]
    },
    {
     "data": {
      "text/plain": [
       "0"
      ]
     },
     "execution_count": 14,
     "metadata": {},
     "output_type": "execute_result"
    }
   ],
   "source": [
    "# 3. Rerank with PRANK\n",
    "create_fpocket_ds(pdb_code)\n",
    "command = \" \".join([path_to_prank, 'rescore', \"examples/1_preparation/fpocket3.ds\", '-o', 'examples/1_preparation/prank'])\n",
    "os.system(command)"
   ]
  },
  {
   "cell_type": "code",
   "execution_count": 6,
   "id": "97b35266-1361-4bf8-aefc-ff6b350f6c5a",
   "metadata": {
    "tags": []
   },
   "outputs": [],
   "source": [
    "# 4. Read fpocket & prank results & calculate pocket centroids\n",
    "fpockets = read_fpocket_scores(os.path.join(outpath, pdb_code + \"_prepared_out\", pdb_code + \"_prepared_info.txt\"))\n",
    "centers = read_fpocket_centers(os.path.join(outpath, pdb_code + \"_prepared_out\", pdb_code + \"_prepared_pockets.pqr\"))\n",
    "centers = {i: calculate_centroid(centers[i]) for i in sorted(centers)}\n",
    "pranks = read_prank_scores(os.path.join(outpath, 'prank', pdb_code + \"_prepared_out.pdb_rescored.csv\"))"
   ]
  },
  {
   "cell_type": "code",
   "execution_count": 7,
   "id": "f25acda0-f634-4d25-9ad6-d3ae3f013354",
   "metadata": {},
   "outputs": [
    {
     "name": "stdout",
     "output_type": "stream",
     "text": [
      "FPOCKET Druggability Scores\n",
      "1 --> 0.649\n",
      "2 --> 0.337\n",
      "3 --> 0.0\n",
      "4 --> 0.025\n",
      "5 --> 0.001\n",
      "6 --> 0.009\n",
      "7 --> 0.002\n",
      "8 --> 0.046\n",
      "9 --> 0.013\n",
      "10 --> 0.001\n",
      "11 --> 0.0\n",
      "12 --> 0.001\n",
      "13 --> 0.0\n",
      "14 --> 0.001\n",
      "15 --> 0.0\n",
      "16 --> 0.0\n",
      "\n",
      "\n",
      "\n",
      "PRANK Re-scores\n",
      "1 --> 12.6436\n",
      "2 --> 30.1467\n",
      "3 --> 1.3809\n",
      "4 --> 1.0933\n",
      "5 --> 28.399\n",
      "6 --> 2.3902\n",
      "7 --> 0.6167\n",
      "8 --> 9.5715\n",
      "9 --> 3.2372\n",
      "10 --> 2.1658\n",
      "11 --> 2.7282\n",
      "12 --> 1.3517\n",
      "13 --> 1.0688\n",
      "14 --> 0.8161\n",
      "15 --> 0.9472\n",
      "16 --> 0.7296\n"
     ]
    }
   ],
   "source": [
    "# 5. In dicts fpockets (and pranks) we have pocket scores (re-scores) provided by fpocket (prank)\n",
    "print(\"FPOCKET Druggability Scores\")\n",
    "print(\"\\n\".join([str(i) + \" --> \" + str(fpockets[i]['Druggability Score']) for i in sorted(fpockets)]))\n",
    "print(\"\\n\\n\")\n",
    "print(\"PRANK Re-scores\")\n",
    "print(\"\\n\".join([str(i) + \" --> \" + str(pranks[i]) for i in sorted(fpockets)]))"
   ]
  },
  {
   "cell_type": "code",
   "execution_count": 21,
   "id": "294bb157-8801-4f94-b36a-b14c9f43d2bc",
   "metadata": {
    "tags": []
   },
   "outputs": [
    {
     "name": "stderr",
     "output_type": "stream",
     "text": [
      "1 molecule converted\n",
      "1 molecule converted\n",
      "1 molecule converted\n",
      "1 molecule converted\n",
      "1 molecule converted\n",
      "1 molecule converted\n",
      "1 molecule converted\n",
      "1 molecule converted\n",
      "1 molecule converted\n",
      "1 molecule converted\n",
      "1 molecule converted\n",
      "1 molecule converted\n",
      "1 molecule converted\n",
      "1 molecule converted\n",
      "1 molecule converted\n",
      "1 molecule converted\n"
     ]
    }
   ],
   "source": [
    "# 6. Print pocket centroids (pocket detection, PD)\n",
    "\n",
    "if os.path.exists(os.path.join(outpath, \"pockets_PD\")) == False: os.makedirs(os.path.join(outpath, \"pockets_PD\"))\n",
    "\n",
    "for pocket in centers:\n",
    "    centroid = centers[pocket]\n",
    "    outfile = os.path.join(outpath, \"pockets_PD\", \"CTR_PD_\" + str(pocket) + \".sd\")\n",
    "    create_pocket_centroid(centroid, outfile)"
   ]
  },
  {
   "cell_type": "code",
   "execution_count": null,
   "id": "3b949347-f003-4721-81e6-d07e86116d32",
   "metadata": {},
   "outputs": [],
   "source": []
  }
 ],
 "metadata": {
  "kernelspec": {
   "display_name": "Python 3 (ipykernel)",
   "language": "python",
   "name": "python3"
  },
  "language_info": {
   "codemirror_mode": {
    "name": "ipython",
    "version": 3
   },
   "file_extension": ".py",
   "mimetype": "text/x-python",
   "name": "python",
   "nbconvert_exporter": "python",
   "pygments_lexer": "ipython3",
   "version": "3.7.10"
  }
 },
 "nbformat": 4,
 "nbformat_minor": 5
}
