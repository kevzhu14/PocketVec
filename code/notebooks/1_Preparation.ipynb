{
 "cells": [
  {
   "cell_type": "code",
   "execution_count": 1,
   "id": "be4597ce-a9ea-4d81-834d-0489f1a3fe87",
   "metadata": {},
   "outputs": [
    {
     "name": "stdout",
     "output_type": "stream",
     "text": [
      "/aloy/home/acomajuncosa/PocketVec_v2/GitLab_repo\n"
     ]
    }
   ],
   "source": [
    "import sys\n",
    "import os\n",
    "os.chdir(\"../..\")\n",
    "print(os.getcwd())\n",
    "sys.path.insert(1, './code')"
   ]
  },
  {
   "cell_type": "code",
   "execution_count": 2,
   "id": "bc115e16-b9da-45f0-8a3b-c3eb0fe28e80",
   "metadata": {},
   "outputs": [],
   "source": [
    "from utils.pocketvec_utils import prepare_pdb\n",
    "import numpy as np\n",
    "import pickle\n",
    "import shutil\n",
    "import pybel\n",
    "import sys\n",
    "import os"
   ]
  },
  {
   "cell_type": "code",
   "execution_count": 3,
   "id": "6bf50764-6ffa-4a57-8fac-094a89d890bc",
   "metadata": {},
   "outputs": [],
   "source": [
    "### PREPARE PDB STRUCTURE FOR RDOCK DOCKING ###\n",
    "\n",
    "infile = \"examples/5V02_R.pdb\"\n",
    "outfile = \"examples/5V02_R_prep.mol2\"\n",
    "logfile = \"examples/preparation.log\""
   ]
  },
  {
   "cell_type": "code",
   "execution_count": 4,
   "id": "034f9347-cd8d-4ead-9cd5-e9d8802a8610",
   "metadata": {},
   "outputs": [
    {
     "name": "stderr",
     "output_type": "stream",
     "text": [
      "Preparation completed!"
     ]
    }
   ],
   "source": [
    "prepare_pdb(infile, outfile, logfile)"
   ]
  },
  {
   "cell_type": "code",
   "execution_count": null,
   "id": "ab42b40c-6043-4cf2-ba67-edb9df9d8949",
   "metadata": {},
   "outputs": [],
   "source": []
  }
 ],
 "metadata": {
  "kernelspec": {
   "display_name": "Python 3",
   "language": "python",
   "name": "python3"
  },
  "language_info": {
   "codemirror_mode": {
    "name": "ipython",
    "version": 3
   },
   "file_extension": ".py",
   "mimetype": "text/x-python",
   "name": "python",
   "nbconvert_exporter": "python",
   "pygments_lexer": "ipython3",
   "version": "3.7.10"
  }
 },
 "nbformat": 4,
 "nbformat_minor": 5
}
