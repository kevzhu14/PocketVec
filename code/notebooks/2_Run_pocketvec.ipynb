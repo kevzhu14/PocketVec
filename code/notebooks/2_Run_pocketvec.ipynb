{
 "cells": [
  {
   "cell_type": "code",
   "execution_count": 1,
   "id": "be4597ce-a9ea-4d81-834d-0489f1a3fe87",
   "metadata": {},
   "outputs": [
    {
     "name": "stdout",
     "output_type": "stream",
     "text": [
      "/aloy/home/acomajuncosa/PocketVec_v2/GitLab_repo\n"
     ]
    }
   ],
   "source": [
    "import sys\n",
    "import os\n",
    "os.chdir(\"../..\")\n",
    "print(os.getcwd())\n",
    "sys.path.insert(1, './code')"
   ]
  },
  {
   "cell_type": "code",
   "execution_count": 2,
   "id": "bc115e16-b9da-45f0-8a3b-c3eb0fe28e80",
   "metadata": {},
   "outputs": [],
   "source": [
    "from utils.pocketvec_utils import prepare_pdb\n",
    "from utils.pocketvec_utils import create_parameter_file\n",
    "from utils.pocketvec_utils import create_cavity\n",
    "from utils.pocketvec_utils import environmental_variables\n",
    "from utils.pocketvec_utils import read_scores\n",
    "from utils.pocketvec_utils import raw_fp\n",
    "from utils.pocketvec_utils import rank_fp\n",
    "from utils.pocketvec_utils import run_rDock\n",
    "from utils.pocketvec_utils import create_file_scores\n",
    "import numpy as np\n",
    "import pickle\n",
    "import shutil\n",
    "import pybel\n",
    "import sys\n",
    "import os"
   ]
  },
  {
   "cell_type": "code",
   "execution_count": 3,
   "id": "6bf50764-6ffa-4a57-8fac-094a89d890bc",
   "metadata": {},
   "outputs": [],
   "source": [
    "### PREPARE PDB STRUCTURE FOR RDOCK DOCKING ###\n",
    "\n",
    "infile = \"examples/5V02_R.pdb\"\n",
    "outfile = \"examples/5V02_R_prep.mol2\"\n",
    "logfile = \"examples/preparation.log\""
   ]
  },
  {
   "cell_type": "code",
   "execution_count": 4,
   "id": "034f9347-cd8d-4ead-9cd5-e9d8802a8610",
   "metadata": {},
   "outputs": [
    {
     "name": "stderr",
     "output_type": "stream",
     "text": [
      "Preparation completed!"
     ]
    }
   ],
   "source": [
    "prepare_pdb(infile, outfile, logfile)"
   ]
  },
  {
   "cell_type": "code",
   "execution_count": 5,
   "id": "a806f287-1b85-48c0-80dc-6a5ba356bdff",
   "metadata": {},
   "outputs": [],
   "source": [
    "### RUN POCKETVEC ###"
   ]
  },
  {
   "cell_type": "code",
   "execution_count": 23,
   "id": "8d19e396-d19f-4c39-947d-ad3692ebac23",
   "metadata": {},
   "outputs": [],
   "source": [
    "radius = \"12.0\"  # Optimal value. If needed, try increasing it\n",
    "nruns = 1  # Nº of docking runs per molecule"
   ]
  },
  {
   "cell_type": "code",
   "execution_count": 24,
   "id": "bdec9b8f-d79b-418a-9af5-203fde234113",
   "metadata": {},
   "outputs": [],
   "source": [
    "outpath = 'examples/rDock_results'\n",
    "\n",
    "if os.path.exists(outpath) == False: os.makedirs(outpath)"
   ]
  },
  {
   "cell_type": "code",
   "execution_count": 25,
   "id": "df05e318-7f47-496d-bed5-42962a32c955",
   "metadata": {},
   "outputs": [],
   "source": [
    "outfile = os.path.join(outpath, \"st_parameters.prm\")\n",
    "path_to_st = \"examples/5V02_R_prep.mol2\"\n",
    "path_to_ctr = \"examples/CTR_0.sd\"\n",
    "\n",
    "create_parameter_file(outfile, path_to_st, path_to_ctr)"
   ]
  },
  {
   "cell_type": "code",
   "execution_count": 26,
   "id": "740f916d-5eef-4a41-af74-336cab8bbb70",
   "metadata": {},
   "outputs": [],
   "source": [
    "path_to_rDock = \"code/utils/rDock_compiled/\"\n",
    "\n",
    "environmental_variables(path_to_rDock)"
   ]
  },
  {
   "cell_type": "code",
   "execution_count": 27,
   "id": "f271e635-de1b-424a-8185-117f68663898",
   "metadata": {
    "tags": []
   },
   "outputs": [
    {
     "name": "stderr",
     "output_type": "stream",
     "text": [
      "***********************************************\n",
      "The rDock program is licensed under GNU-LGPLv3.0. http://rdock.sourceforge.net/\n",
      "Executable:\trbcavity ($Id: //depot/dev/client3/rdock/2021.1/src/exe/rbcavity.cxx#3 $)\n",
      "Library:\tlibRbt.so/2021.1/901 2021/07/19\n",
      "RBT_ROOT:\tcode/utils/rDock_compiled\n",
      "RBT_HOME:\t/home/acomajuncosa\n",
      "Current dir:\t/aloy/home/acomajuncosa/PocketVec_v2/GitLab_repo\n",
      "Date:\t\tFri Mar 10 10:59:52 2023\n",
      "***********************************************\n",
      "\n",
      "Command line arguments:\n",
      "-r examples/rDock_results/st_parameters.prm\n",
      "-was\n",
      "-d\n",
      "\n",
      "MAPPER\n",
      "CLASS\tRbtLigandSiteMapper\n",
      "ENABLED\tTRUE\n",
      "GRIDSTEP\t0.5\n",
      "MAX_CAVITIES\t1\n",
      "MIN_VOLUME\t100\n",
      "NAME\tMAPPER\n",
      "RADIUS\t12.0\n",
      "REF_MOL\texamples/CTR_0.sd\n",
      "SMALL_SPHERE\t1.0\n",
      "TRACE\t0\n",
      "VOL_INCR\t0\n",
      "\n",
      "\n",
      "DOCKING SITE\n",
      "Total volume 3439.5 A^3\n",
      "Cavity #1\tSize=27516 points; Vol=3439.5 A^3; Min=(23.5,43,38.5); Max=(47,64.5,61); Center=(34.8608,55.9292,48.4501); Extent=(23.5,21.5,22.5)\n",
      "\n",
      "Cav = 27516; total = 27516\n"
     ]
    }
   ],
   "source": [
    "path_to_parameters = os.path.join(outpath, 'st_parameters.prm')\n",
    "path_to_log = os.path.join(outpath, 'cavity_log.log')\n",
    "path_to_cavity = os.path.join(outpath, 'cavity.grd')\n",
    "path_to_rbcavity = 'rbcavity'\n",
    "\n",
    "\n",
    "# Create cavity files for rDock  // Should take no more than 1-2 min\n",
    "create_cavity(outpath, path_to_log, path_to_cavity, path_to_rbcavity)"
   ]
  },
  {
   "cell_type": "code",
   "execution_count": 28,
   "id": "ee2ac375-3350-4f99-a22e-603124122b76",
   "metadata": {},
   "outputs": [],
   "source": [
    "# Copy parameters file\n",
    "_ = shutil.copyfile(\"code/utils/rDock_compiled/dock.prm\", os.path.join(outpath, \"dock.prm\"))"
   ]
  },
  {
   "cell_type": "code",
   "execution_count": 29,
   "id": "3d75d1e5-ccfc-41b0-9010-827fac0edc64",
   "metadata": {},
   "outputs": [],
   "source": [
    "# Run rDock\n",
    "path_to_lib = 'data/libs/TOP_128_rDock_LLM.sdf'\n",
    "run_rDock(outpath, path_to_lib, nruns=nruns)"
   ]
  },
  {
   "cell_type": "code",
   "execution_count": 30,
   "id": "ac84a02c-4992-448c-a1e6-156449511644",
   "metadata": {},
   "outputs": [],
   "source": [
    "path_to_scores = \"examples/scores.tsv\"\n",
    "path_to_results = \"examples/rDock_results/results.sd\"\n",
    "\n",
    "create_file_scores(path_to_scores, path_to_results)"
   ]
  },
  {
   "cell_type": "code",
   "execution_count": 31,
   "id": "8eccb33d-7557-48a5-a851-ec882363bef1",
   "metadata": {
    "tags": []
   },
   "outputs": [],
   "source": [
    "# Tar rDock results -- optional\n",
    "os.chdir(\"examples/\")\n",
    "command = \"tar -czf rDock_results.tar.gz rDock_results\"\n",
    "os.system(command)\n",
    "os.chdir(\"..\")\n",
    "\n",
    "# Remove folders\n",
    "shutil.rmtree(\"examples/rDock_results\")"
   ]
  },
  {
   "cell_type": "code",
   "execution_count": 33,
   "id": "15c60f63-5d8f-4d1f-86af-8cd3da20da39",
   "metadata": {},
   "outputs": [],
   "source": [
    "path_to_scores = \"examples/scores.tsv\"\n",
    "path_to_lib = 'data/libs/TOP_128_rDock_LLM.sdf'\n",
    "path_to_sorted_lib = 'data/libs/order/' + path_to_lib.split(\"/\")[-1].split(\".sdf\")[0] + \".pkl\"\n",
    "\n",
    "# Read scores\n",
    "scores = read_scores(path_to_scores)\n",
    "\n",
    "# Create fingerprint with raw docking scores\n",
    "raw = raw_fp(scores, path_to_sorted_lib)\n",
    "\n",
    "# Rank scores fp\n",
    "rank = rank_fp(raw)"
   ]
  },
  {
   "cell_type": "code",
   "execution_count": 34,
   "id": "69a8f557-098c-4333-8c1c-c5e8b9cf65a7",
   "metadata": {},
   "outputs": [
    {
     "name": "stderr",
     "output_type": "stream",
     "text": [
      "\n",
      "\n",
      "2 out of 128 molecules have score > 0\n",
      "\n",
      "\n"
     ]
    }
   ],
   "source": [
    "# PRINT NUMBER OF OUTLIER MOLECULES \n",
    "\n",
    "outlier = str(len([i for i in raw if i > 0]))\n",
    "\n",
    "sys.stderr.write(\"\\n\\n\" + outlier + \" out of 128 molecules have score > 0\\n\\n\\n\")"
   ]
  },
  {
   "cell_type": "code",
   "execution_count": 36,
   "id": "c2345f45-f0e6-455b-8a5d-413e9c81ba2d",
   "metadata": {},
   "outputs": [],
   "source": [
    "pickle.dump(rank, open(\"examples/PocketVec_fp.pkl\", \"wb\"))"
   ]
  },
  {
   "cell_type": "code",
   "execution_count": null,
   "id": "ab42b40c-6043-4cf2-ba67-edb9df9d8949",
   "metadata": {},
   "outputs": [],
   "source": []
  }
 ],
 "metadata": {
  "kernelspec": {
   "display_name": "Python 3",
   "language": "python",
   "name": "python3"
  },
  "language_info": {
   "codemirror_mode": {
    "name": "ipython",
    "version": 3
   },
   "file_extension": ".py",
   "mimetype": "text/x-python",
   "name": "python",
   "nbconvert_exporter": "python",
   "pygments_lexer": "ipython3",
   "version": "3.7.10"
  }
 },
 "nbformat": 4,
 "nbformat_minor": 5
}
