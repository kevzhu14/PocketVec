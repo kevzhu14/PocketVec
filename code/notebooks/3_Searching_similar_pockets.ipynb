{
 "cells": [
  {
   "cell_type": "code",
   "execution_count": 1,
   "id": "be4597ce-a9ea-4d81-834d-0489f1a3fe87",
   "metadata": {},
   "outputs": [
    {
     "name": "stdout",
     "output_type": "stream",
     "text": [
      "/aloy/home/acomajuncosa/PocketVec_v2/GitLab_repo\n"
     ]
    }
   ],
   "source": [
    "from scipy.spatial import distance\n",
    "import pandas as pd\n",
    "import pickle\n",
    "import sys\n",
    "import os\n",
    "os.chdir(\"../..\")\n",
    "print(os.getcwd())\n",
    "sys.path.insert(1, './code')"
   ]
  },
  {
   "cell_type": "markdown",
   "id": "50e33c07-da5f-42f5-9838-962b4f13ef9b",
   "metadata": {},
   "source": [
    "## This notebook exemplifies how to look for Human pockets being **similar** to a query one from a PocketVec perspective"
   ]
  },
  {
   "cell_type": "code",
   "execution_count": 2,
   "id": "ab42b40c-6043-4cf2-ba67-edb9df9d8949",
   "metadata": {},
   "outputs": [],
   "source": [
    "# 1. Load query PocketVec fp\n",
    "path_to_fp = \"examples/2_pocketvec/PocketVec_fp.pkl\"\n",
    "ref_fp = pickle.load(open(path_to_fp, \"rb\"))"
   ]
  },
  {
   "cell_type": "code",
   "execution_count": 3,
   "id": "9dfcbbcb-9319-4053-bffa-c461192c53e1",
   "metadata": {
    "tags": []
   },
   "outputs": [
    {
     "name": "stdout",
     "output_type": "stream",
     "text": [
      "PDB-LIG -- 1594 PocketVec descriptors\n",
      "AF2-LIG -- 1390 PocketVec descriptors\n",
      "PDB-PD -- 14368 PocketVec descriptors\n",
      "AF2-PD -- 32159 PocketVec descriptors\n"
     ]
    }
   ],
   "source": [
    "# 2. Load PocketVec descriptors for the entire human pocketome\n",
    "\n",
    "fps = {}\n",
    "fps['PDB-LIG'] = pickle.load(open(\"results/human_pocketome/PocketVec_descriptors/PDB-LIG_cut80.pkl\", \"rb\"))\n",
    "fps['AF2-LIG'] = pickle.load(open(\"results/human_pocketome/PocketVec_descriptors/AF2-LIG_cut80.pkl\", \"rb\"))\n",
    "fps['PDB-PD'] = pickle.load(open(\"results/human_pocketome/PocketVec_descriptors/PDB-PD_cut80.pkl\", \"rb\"))\n",
    "fps['AF2-PD'] = pickle.load(open(\"results/human_pocketome/PocketVec_descriptors/AF2-PD_cut80.pkl\", \"rb\"))\n",
    "\n",
    "print(\"\\n\".join([i + \" -- \" + str(len(fps[i])) + \" PocketVec descriptors\" for i in fps]))"
   ]
  },
  {
   "cell_type": "code",
   "execution_count": 15,
   "id": "a085bad0-eb44-4406-9364-8eacbd0beb12",
   "metadata": {
    "tags": []
   },
   "outputs": [],
   "source": [
    "# 3. Calculate PocketVec distance and store results in a pandas dataframe\n",
    "\n",
    "distances = [[strategy, pocket, round(distance.cosine(ref_fp, fps[strategy][pocket]), 4)] for strategy in sorted(fps) for pocket in fps[strategy]]\n",
    "distances = pd.DataFrame(distances, columns = ['strategy', 'pocket', 'PocketVec distance'])\n",
    "distances = distances.sort_values('PocketVec distance').reset_index(drop=True)"
   ]
  },
  {
   "cell_type": "code",
   "execution_count": 26,
   "id": "f25cb3da-7f84-47fa-bf55-4d797db44831",
   "metadata": {
    "tags": []
   },
   "outputs": [],
   "source": [
    "# 4. Store results in a CSV file\n",
    "distances.to_csv(\"examples/3_analysis/PocketVec_distances_to_query.csv\")"
   ]
  }
 ],
 "metadata": {
  "kernelspec": {
   "display_name": "Python 3 (ipykernel)",
   "language": "python",
   "name": "python3"
  },
  "language_info": {
   "codemirror_mode": {
    "name": "ipython",
    "version": 3
   },
   "file_extension": ".py",
   "mimetype": "text/x-python",
   "name": "python",
   "nbconvert_exporter": "python",
   "pygments_lexer": "ipython3",
   "version": "3.7.10"
  }
 },
 "nbformat": 4,
 "nbformat_minor": 5
}
