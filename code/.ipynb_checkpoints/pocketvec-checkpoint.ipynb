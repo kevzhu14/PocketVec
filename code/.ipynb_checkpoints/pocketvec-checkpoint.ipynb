{
 "cells": [
  {
   "cell_type": "code",
   "execution_count": 17,
   "id": "bc115e16-b9da-45f0-8a3b-c3eb0fe28e80",
   "metadata": {},
   "outputs": [],
   "source": [
    "import numpy as np\n",
    "import sys\n",
    "from utils.pocketvec_utils import prepare_pdb"
   ]
  },
  {
   "cell_type": "code",
   "execution_count": 18,
   "id": "6bf50764-6ffa-4a57-8fac-094a89d890bc",
   "metadata": {},
   "outputs": [],
   "source": [
    "### PREPARE PDB STRUCTURE FOR RDOCK DOCKING ###\n",
    "\n",
    "infile = \"example/5V02_R.pdb\"\n",
    "outfile = \"example/5V02_R_prep.mol2\"\n",
    "logfile = \"example/preparation.log\""
   ]
  },
  {
   "cell_type": "code",
   "execution_count": 19,
   "id": "034f9347-cd8d-4ead-9cd5-e9d8802a8610",
   "metadata": {},
   "outputs": [
    {
     "name": "stderr",
     "output_type": "stream",
     "text": [
      "Preparation completed!"
     ]
    }
   ],
   "source": [
    "prepare_pdb(infile, outfile, logfile)"
   ]
  },
  {
   "cell_type": "code",
   "execution_count": 16,
   "id": "a806f287-1b85-48c0-80dc-6a5ba356bdff",
   "metadata": {},
   "outputs": [],
   "source": [
    "### RUN POCKETVEC ###"
   ]
  },
  {
   "cell_type": "code",
   "execution_count": null,
   "id": "179ef1bb-6dee-4582-a5ab-7c4eb4aeda26",
   "metadata": {},
   "outputs": [],
   "source": []
  }
 ],
 "metadata": {
  "kernelspec": {
   "display_name": "Python 3",
   "language": "python",
   "name": "python3"
  },
  "language_info": {
   "codemirror_mode": {
    "name": "ipython",
    "version": 3
   },
   "file_extension": ".py",
   "mimetype": "text/x-python",
   "name": "python",
   "nbconvert_exporter": "python",
   "pygments_lexer": "ipython3",
   "version": "3.7.10"
  }
 },
 "nbformat": 4,
 "nbformat_minor": 5
}
