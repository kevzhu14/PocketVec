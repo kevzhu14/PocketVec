{
 "cells": [
  {
   "cell_type": "code",
   "execution_count": 1,
   "id": "bc115e16-b9da-45f0-8a3b-c3eb0fe28e80",
   "metadata": {},
   "outputs": [],
   "source": [
    "import numpy as np\n",
    "import sys\n",
    "import os\n",
    "from utils.pocketvec_utils import prepare_pdb\n",
    "from utils.pocketvec_utils import create_parameter_file"
   ]
  },
  {
   "cell_type": "code",
   "execution_count": 2,
   "id": "6bf50764-6ffa-4a57-8fac-094a89d890bc",
   "metadata": {},
   "outputs": [],
   "source": [
    "### PREPARE PDB STRUCTURE FOR RDOCK DOCKING ###\n",
    "\n",
    "infile = \"example/5V02_R.pdb\"\n",
    "outfile = \"example/5V02_R_prep.mol2\"\n",
    "logfile = \"example/preparation.log\""
   ]
  },
  {
   "cell_type": "code",
   "execution_count": 3,
   "id": "034f9347-cd8d-4ead-9cd5-e9d8802a8610",
   "metadata": {},
   "outputs": [
    {
     "name": "stderr",
     "output_type": "stream",
     "text": [
      "Preparation completed!"
     ]
    }
   ],
   "source": [
    "prepare_pdb(infile, outfile, logfile)"
   ]
  },
  {
   "cell_type": "code",
   "execution_count": 4,
   "id": "a806f287-1b85-48c0-80dc-6a5ba356bdff",
   "metadata": {},
   "outputs": [],
   "source": [
    "### RUN POCKETVEC ###"
   ]
  },
  {
   "cell_type": "code",
   "execution_count": 5,
   "id": "8d19e396-d19f-4c39-947d-ad3692ebac23",
   "metadata": {},
   "outputs": [],
   "source": [
    "radius = \"12.0\"  # Optimal value. If needed, try increasing it\n",
    "nruns = 1"
   ]
  },
  {
   "cell_type": "code",
   "execution_count": 6,
   "id": "bdec9b8f-d79b-418a-9af5-203fde234113",
   "metadata": {},
   "outputs": [],
   "source": [
    "outpath = 'example/rDock_results'\n",
    "\n",
    "if os.path.exists(outpath) == False: os.makedirs(outpath)"
   ]
  },
  {
   "cell_type": "code",
   "execution_count": 7,
   "id": "df05e318-7f47-496d-bed5-42962a32c955",
   "metadata": {},
   "outputs": [],
   "source": [
    "outfile = os.path.join(outpath, \"st_parameters.prm\")\n",
    "path_to_st = \"example/5V02_R_prep.mol2\"\n",
    "path_to_ctr = \"example/CTR_0.sd\"\n",
    "\n",
    "create_parameter_file(outfile, path_to_st, path_to_ctr)"
   ]
  },
  {
   "cell_type": "code",
   "execution_count": null,
   "id": "a5cab08c-a2c0-4c3c-95eb-b910cbb555b2",
   "metadata": {},
   "outputs": [],
   "source": []
  },
  {
   "cell_type": "code",
   "execution_count": 8,
   "id": "ab6bab51-1c39-4625-927a-5372826515ec",
   "metadata": {},
   "outputs": [],
   "source": [
    "def create_cavity(path_to_parameters, path_to_log, path_to_cavity, path_to_rbcavity):\n",
    "    \"\"\"\n",
    "    Create cavity before docking with rDock.\n",
    "    \n",
    "    Args:\n",
    "        \n",
    "        path_to_parameters (str): Path to structure parameters file\n",
    "        path_to_log (str): Path to log\n",
    "        path_to_cavity (str): Path to cavity (GRD extension)\n",
    "        path_to_rbcavity (str): Path to rbcavity (default utils/rDock/rbcavity)\n",
    "    \n",
    "    \n",
    "    \"\"\"\n",
    "    \n",
    "    # 2. Define cavity  ---->  generated files: .as & .grd\n",
    "    command = path_to_rbcavity + ' -was -d -r ' + path_to_parameters + ' > ' + path_to_log\n",
    "    \n",
    "    print(command)\n",
    "    \n",
    "    os.system(command)\n",
    "\n",
    "    # os.rename(os.path.join(path_to_out, \"_cav1.grd\"), os.path.join(path_to_out, \"cavity_\" + st + \".grd\"))"
   ]
  },
  {
   "cell_type": "code",
   "execution_count": 13,
   "id": "f271e635-de1b-424a-8185-117f68663898",
   "metadata": {},
   "outputs": [
    {
     "name": "stdout",
     "output_type": "stream",
     "text": [
      "utils/rDock/bin/rbcavity -was -d -r example/rDock_results/st_parameters.prm > example/rDock_results/cavity_log.log\n"
     ]
    }
   ],
   "source": [
    "path_to_parameters = 'example/rDock_results/st_parameters.prm'\n",
    "path_to_log = 'example/rDock_results/cavity_log.log'\n",
    "path_to_cavity = 'example/rDock_results/cavity.grd'\n",
    "path_to_rbcavity = 'utils/rDock/bin/rbcavity'\n",
    "\n",
    "create_cavity(path_to_parameters, path_to_log, path_to_cavity, path_to_rbcavity)"
   ]
  },
  {
   "cell_type": "code",
   "execution_count": null,
   "id": "77c7b707-03ae-4892-b5f0-2aea4934b65c",
   "metadata": {},
   "outputs": [],
   "source": []
  },
  {
   "cell_type": "code",
   "execution_count": 12,
   "id": "3f7cb62a-317b-4e56-8847-c0f2aa5dee45",
   "metadata": {},
   "outputs": [
    {
     "name": "stderr",
     "output_type": "stream",
     "text": [
      "\n",
      "\n",
      "utils/rDock\n",
      "\n",
      "\n",
      "\n",
      "utils/rDock\n",
      "\n",
      "\n",
      "\n",
      "$LD_LIBRARY_PATH:utils/rDock/lib\n",
      "\n",
      "\n",
      "\n",
      "$PATH:utils/rDock/bin\n",
      "\n"
     ]
    }
   ],
   "source": [
    "os.environ[\"RBT_ROOT\"] = \"utils/rDock\"\n",
    "os.environ[\"RBT_HOME\"] = \"utils/rDock\"\n",
    "os.environ[\"LD_LIBRARY_PATH\"] = \"$LD_LIBRARY_PATH:utils/rDock/lib\"\n",
    "os.environ[\"PATH\"] = \"$PATH:utils/rDock/bin\"\n",
    "\n",
    "sys.stderr.write(\"\\n\\n\" + str(os.getenv('RBT_ROOT')) + \"\\n\\n\")\n",
    "sys.stderr.write(\"\\n\\n\" + str(os.getenv('RBT_HOME')) + \"\\n\\n\")\n",
    "sys.stderr.write(\"\\n\\n\" + str(os.getenv('LD_LIBRARY_PATH')) + \"\\n\\n\")\n",
    "sys.stderr.write(\"\\n\\n\" + str(os.getenv('PATH')) + \"\\n\\n\")\n",
    "sys.stderr.flush()"
   ]
  },
  {
   "cell_type": "code",
   "execution_count": null,
   "id": "ee2ac375-3350-4f99-a22e-603124122b76",
   "metadata": {},
   "outputs": [],
   "source": []
  },
  {
   "cell_type": "code",
   "execution_count": null,
   "id": "c1d79676-0e18-4ac3-8bbe-6a42d87f68b6",
   "metadata": {},
   "outputs": [],
   "source": []
  },
  {
   "cell_type": "code",
   "execution_count": null,
   "id": "d4a4fef3-d746-4a3d-9696-8fef185568da",
   "metadata": {},
   "outputs": [],
   "source": []
  }
 ],
 "metadata": {
  "kernelspec": {
   "display_name": "Python 3",
   "language": "python",
   "name": "python3"
  },
  "language_info": {
   "codemirror_mode": {
    "name": "ipython",
    "version": 3
   },
   "file_extension": ".py",
   "mimetype": "text/x-python",
   "name": "python",
   "nbconvert_exporter": "python",
   "pygments_lexer": "ipython3",
   "version": "3.7.10"
  }
 },
 "nbformat": 4,
 "nbformat_minor": 5
}
